{
 "cells": [
  {
   "cell_type": "code",
   "execution_count": 1,
   "metadata": {
    "collapsed": true,
    "ExecuteTime": {
     "end_time": "2023-07-29T13:05:54.401217600Z",
     "start_time": "2023-07-29T13:05:54.052115Z"
    }
   },
   "outputs": [],
   "source": [
    "import os\n",
    "import re\n",
    "import codecs\n",
    "import string\n",
    "\n",
    "import emot.core\n",
    "import unicodedata\n",
    "import multiprocessing as mp\n",
    "from multiprocessing import Pool"
   ]
  },
  {
   "cell_type": "code",
   "execution_count": 2,
   "outputs": [],
   "source": [
    "from bs4 import BeautifulSoup\n",
    "import json"
   ],
   "metadata": {
    "collapsed": false,
    "ExecuteTime": {
     "end_time": "2023-07-29T13:05:58.520699500Z",
     "start_time": "2023-07-29T13:05:55.915970100Z"
    }
   }
  },
  {
   "cell_type": "code",
   "execution_count": 3,
   "outputs": [
    {
     "name": "stderr",
     "output_type": "stream",
     "text": [
      "[nltk_data] Downloading package punkt to\n",
      "[nltk_data]     C:\\Users\\Darko\\AppData\\Roaming\\nltk_data...\n",
      "[nltk_data]   Package punkt is already up-to-date!\n",
      "[nltk_data] Downloading package stopwords to\n",
      "[nltk_data]     C:\\Users\\Darko\\AppData\\Roaming\\nltk_data...\n",
      "[nltk_data]   Package stopwords is already up-to-date!\n",
      "[nltk_data] Downloading package wordnet to\n",
      "[nltk_data]     C:\\Users\\Darko\\AppData\\Roaming\\nltk_data...\n",
      "[nltk_data]   Package wordnet is already up-to-date!\n",
      "[nltk_data] Downloading package omw-1.4 to\n",
      "[nltk_data]     C:\\Users\\Darko\\AppData\\Roaming\\nltk_data...\n",
      "[nltk_data]   Package omw-1.4 is already up-to-date!\n"
     ]
    },
    {
     "data": {
      "text/plain": "True"
     },
     "execution_count": 3,
     "metadata": {},
     "output_type": "execute_result"
    }
   ],
   "source": [
    "import nltk\n",
    "from nltk.tokenize import word_tokenize\n",
    "from nltk.corpus import wordnet\n",
    "\n",
    "nltk.download('punkt')\n",
    "nltk.download('stopwords')\n",
    "nltk.download('wordnet')\n",
    "nltk.download('omw-1.4')"
   ],
   "metadata": {
    "collapsed": false,
    "ExecuteTime": {
     "end_time": "2023-07-29T13:06:27.333205500Z",
     "start_time": "2023-07-29T13:05:59.298481300Z"
    }
   }
  },
  {
   "cell_type": "code",
   "execution_count": 4,
   "outputs": [],
   "source": [
    "import spacy\n",
    "\n",
    "nlp = spacy.load('en_core_web_sm')"
   ],
   "metadata": {
    "collapsed": false,
    "ExecuteTime": {
     "end_time": "2023-07-29T13:07:14.968714600Z",
     "start_time": "2023-07-29T13:06:30.093446700Z"
    }
   }
  },
  {
   "cell_type": "code",
   "execution_count": 5,
   "outputs": [],
   "source": [
    "import contractions\n",
    "import emot\n",
    "from emot import EMOTICONS_EMO\n",
    "from spellchecker import SpellChecker\n",
    "from chardet.universaldetector import UniversalDetector"
   ],
   "metadata": {
    "collapsed": false,
    "ExecuteTime": {
     "end_time": "2023-07-29T13:07:17.597334100Z",
     "start_time": "2023-07-29T13:07:17.284519300Z"
    }
   }
  },
  {
   "cell_type": "code",
   "execution_count": 99,
   "outputs": [],
   "source": [
    "def read_document(filepath, encoding='utf-8'):\n",
    "    with codecs.open(filepath, 'r', encoding) as file:\n",
    "        text = file.read()\n",
    "    return text"
   ],
   "metadata": {
    "collapsed": false,
    "ExecuteTime": {
     "end_time": "2023-07-29T16:49:08.859336700Z",
     "start_time": "2023-07-29T16:49:08.812460800Z"
    }
   }
  },
  {
   "cell_type": "code",
   "execution_count": 7,
   "outputs": [],
   "source": [
    "def remove_html_tags(text):\n",
    "    soup = BeautifulSoup(text, 'lxml')\n",
    "    text = soup.get_text()\n",
    "    return text"
   ],
   "metadata": {
    "collapsed": false,
    "ExecuteTime": {
     "end_time": "2023-07-29T13:07:20.205880Z",
     "start_time": "2023-07-29T13:07:20.112134500Z"
    }
   }
  },
  {
   "cell_type": "code",
   "execution_count": 8,
   "outputs": [],
   "source": [
    "def remove_urls(text):\n",
    "    url_pattern = re.compile(r'https?://\\S+|www\\.\\S+')\n",
    "    return url_pattern.sub(r'', text)"
   ],
   "metadata": {
    "collapsed": false,
    "ExecuteTime": {
     "end_time": "2023-07-29T13:07:21.495225800Z",
     "start_time": "2023-07-29T13:07:21.448353200Z"
    }
   }
  },
  {
   "cell_type": "code",
   "execution_count": 9,
   "outputs": [],
   "source": [
    "def to_lower(text):\n",
    "    return text.lower()"
   ],
   "metadata": {
    "collapsed": false,
    "ExecuteTime": {
     "end_time": "2023-07-29T13:07:22.304108300Z",
     "start_time": "2023-07-29T13:07:22.241609900Z"
    }
   }
  },
  {
   "cell_type": "code",
   "execution_count": 10,
   "outputs": [],
   "source": [
    "def remove_accented_characters(text):\n",
    "    text = unicodedata.normalize('NFKD', text).encode('ascii', 'ignore').decode('utf-8', 'ignore')\n",
    "    return text"
   ],
   "metadata": {
    "collapsed": false,
    "ExecuteTime": {
     "end_time": "2023-07-29T13:07:23.132147500Z",
     "start_time": "2023-07-29T13:07:23.038401500Z"
    }
   }
  },
  {
   "cell_type": "code",
   "execution_count": 11,
   "outputs": [
    {
     "data": {
      "text/plain": "'Some Accented text'"
     },
     "execution_count": 11,
     "metadata": {},
     "output_type": "execute_result"
    }
   ],
   "source": [
    "remove_accented_characters('Sómě Áccěñtěd téxt')"
   ],
   "metadata": {
    "collapsed": false,
    "ExecuteTime": {
     "end_time": "2023-07-29T13:07:23.997692Z",
     "start_time": "2023-07-29T13:07:23.888317700Z"
    }
   }
  },
  {
   "cell_type": "code",
   "execution_count": 12,
   "outputs": [],
   "source": [
    "def expand_contractions(text):\n",
    "    expanded_text = []\n",
    "    for word in text.split():\n",
    "        expanded_text.append(contractions.fix(word))\n",
    "    expanded_text = ' '.join(expanded_text)\n",
    "    return expanded_text"
   ],
   "metadata": {
    "collapsed": false,
    "ExecuteTime": {
     "end_time": "2023-07-29T13:07:25.203575400Z",
     "start_time": "2023-07-29T13:07:25.078579300Z"
    }
   }
  },
  {
   "cell_type": "code",
   "execution_count": 13,
   "outputs": [
    {
     "name": "stdout",
     "output_type": "stream",
     "text": [
      "are not\n",
      "You all cannot expand contractions I would think\n",
      "cannot have\n",
      "you shall have\n"
     ]
    }
   ],
   "source": [
    "print(expand_contractions(\"ain't\"))\n",
    "print(expand_contractions(\"Y'all can't expand contractions I'd think\"))\n",
    "print(expand_contractions(\"can't've\"))\n",
    "print(expand_contractions(\"you'll've\"))"
   ],
   "metadata": {
    "collapsed": false,
    "ExecuteTime": {
     "end_time": "2023-07-29T13:07:26.016352700Z",
     "start_time": "2023-07-29T13:07:25.906981500Z"
    }
   }
  },
  {
   "cell_type": "code",
   "execution_count": 14,
   "outputs": [],
   "source": [
    "def detect_encoding(filepath):\n",
    "    detector = UniversalDetector()\n",
    "    with open(filepath, 'rb') as file:\n",
    "        for line in file:\n",
    "            detector.feed(line)\n",
    "            if detector.done:\n",
    "                break\n",
    "    detector.close()\n",
    "\n",
    "    encoding = detector.result['encoding']\n",
    "    confidence = detector.result['confidence']\n",
    "\n",
    "    return encoding, confidence"
   ],
   "metadata": {
    "collapsed": false,
    "ExecuteTime": {
     "end_time": "2023-07-29T13:07:26.926135200Z",
     "start_time": "2023-07-29T13:07:26.816764400Z"
    }
   }
  },
  {
   "cell_type": "code",
   "execution_count": 15,
   "outputs": [],
   "source": [
    "# Fajl 2624_7 ima emotikone"
   ],
   "metadata": {
    "collapsed": false,
    "ExecuteTime": {
     "end_time": "2023-07-29T13:07:28.230592100Z",
     "start_time": "2023-07-29T13:07:28.183718Z"
    }
   }
  },
  {
   "cell_type": "code",
   "execution_count": 16,
   "outputs": [
    {
     "name": "stdout",
     "output_type": "stream",
     "text": [
      "ascii 1.0\n"
     ]
    }
   ],
   "source": [
    "encoding_, confidence_ = detect_encoding('data/train/pos/2624_7.txt')\n",
    "print(f'{encoding_} {confidence_}')"
   ],
   "metadata": {
    "collapsed": false,
    "ExecuteTime": {
     "end_time": "2023-07-29T13:07:29.397522900Z",
     "start_time": "2023-07-29T13:07:29.271830200Z"
    }
   }
  },
  {
   "cell_type": "code",
   "execution_count": 17,
   "outputs": [
    {
     "name": "stdout",
     "output_type": "stream",
     "text": [
      "In this film we have the fabulous opportunity to see what happened to Timon and Pumbaa in the film when they are not shown - which is a lot! This film even goes back to before Simba and (presumbably) just after the birth of Kiara. <br /><br />Quite true to the first film, \"Lion King 1/2 (or Lion King 3 in other places)\" is a funny, entertaining, exciting and surprising film (or sequel if that's what you want to call it). A bundle of surprises and hilarity await for you!<br /><br />While Timon and Pumbaa are watching a film at the cinema (with a remote control), Timon and Pumbaa have an argument of what point of \"The Lion King\" they are going to start watching, as Timon wants to go to the part when he and Pumbaa come in and Pumbaa wants to go back to the beginning. They have a very fair compromise of watching the film of their own story, which is what awaits... It starts with Timon's first home...<br /><br />For anyone with a good sense of humour who liked the first films of just about any age, enjoy \"Lion King 1/2\"! :-)\n"
     ]
    }
   ],
   "source": [
    "review_1 = read_document('data/train/pos/2624_7.txt', encoding=encoding_)\n",
    "print(review_1)"
   ],
   "metadata": {
    "collapsed": false,
    "ExecuteTime": {
     "end_time": "2023-07-29T13:07:31.100644500Z",
     "start_time": "2023-07-29T13:07:31.006896800Z"
    }
   }
  },
  {
   "cell_type": "code",
   "execution_count": 18,
   "outputs": [
    {
     "name": "stdout",
     "output_type": "stream",
     "text": [
      "In this film we have the fabulous opportunity to see what happened to Timon and Pumbaa in the film when they are not shown - which is a lot! This film even goes back to before Simba and (presumbably) just after the birth of Kiara. Quite true to the first film, \"Lion King 1/2 (or Lion King 3 in other places)\" is a funny, entertaining, exciting and surprising film (or sequel if that's what you want to call it). A bundle of surprises and hilarity await for you!While Timon and Pumbaa are watching a film at the cinema (with a remote control), Timon and Pumbaa have an argument of what point of \"The Lion King\" they are going to start watching, as Timon wants to go to the part when he and Pumbaa come in and Pumbaa wants to go back to the beginning. They have a very fair compromise of watching the film of their own story, which is what awaits... It starts with Timon's first home...For anyone with a good sense of humour who liked the first films of just about any age, enjoy \"Lion King 1/2\"! :-)\n"
     ]
    }
   ],
   "source": [
    "print(remove_html_tags(review_1))"
   ],
   "metadata": {
    "collapsed": false,
    "ExecuteTime": {
     "end_time": "2023-07-29T13:07:32.257455900Z",
     "start_time": "2023-07-29T13:07:32.099710700Z"
    }
   }
  },
  {
   "cell_type": "code",
   "execution_count": 19,
   "outputs": [
    {
     "name": "stdout",
     "output_type": "stream",
     "text": [
      "I guess if a film has magic, I don't need it to be fluid or seamless. It can skip background information, go too fast in some places, too slow in others, etc. Magic in this film: the scene in the library. There are many minor flaws in Stanley & Iris, yet they don't detract from the overall positive impact of watching people help each other in areas of life that seem the most incomprehensible, the hardest to fix. Both characters are smart. Yet Stanley can't understand enough to function because he can't read; he can't read because he's had too much adventure in his childhood. Iris, although well-educated, hasn't had enough adventure and so can't understand how to move past the U-turn her life took. In both their faults and strengths, the characters compliment each other. It may be a bit of a stretch to accept that an Iris would wind up working year after year in a factory, or that a Stanley never hid his illiteracy enough to work in construction or some other better-paying job. And while these \"mysteries\" are explained in the course of the story, their unfolding seems somewhat contrived. I assume no one took the time to rethink the script. Even so, it's a good movieÂ—just imagine what De Niro, Fonda and Plimpton would have done on screen if someone had!\n"
     ]
    }
   ],
   "source": [
    "encoding_2, confidence_2 = detect_encoding('data/train/pos/15_7.txt')\n",
    "review_2 = read_document('data/train/pos/15_7.txt', encoding=encoding_2)\n",
    "print(review_2)"
   ],
   "metadata": {
    "collapsed": false,
    "ExecuteTime": {
     "end_time": "2023-07-29T13:07:33.562961500Z",
     "start_time": "2023-07-29T13:07:33.312970300Z"
    }
   }
  },
  {
   "cell_type": "code",
   "execution_count": 20,
   "outputs": [
    {
     "name": "stdout",
     "output_type": "stream",
     "text": [
      "I guess if a film has magic, I do not need it to be fluid or seamless. It can skip background information, go too fast in some places, too slow in others, etc. Magic in this film: the scene in the library. There are many minor flaws in Stanley & Iris, yet they do not detract from the overall positive impact of watching people help each other in areas of life that seem the most incomprehensible, the hardest to fix. Both characters are smart. Yet Stanley cannot understand enough to function because he cannot read; he cannot read because he is had too much adventure in his childhood. Iris, although well-educated, has not had enough adventure and so cannot understand how to move past the YOU-turn her life took. In both their faults and strengths, the characters compliment each other. It may be a bit of a stretch to accept that an Iris would wind up working year after year in a factory, or that a Stanley never hid his illiteracy enough to work in construction or some other better-paying job. And while these \"mysteries\" are explained in the course of the story, their unfolding seems somewhat contrived. I assume no one took the time to rethink the script. Even so, it is a good movieÂ—just imagine what De Niro, Fonda and Plimpton would have done on screen if someone had!\n"
     ]
    }
   ],
   "source": [
    "print(expand_contractions(review_2))"
   ],
   "metadata": {
    "collapsed": false,
    "ExecuteTime": {
     "end_time": "2023-07-29T13:07:34.528017200Z",
     "start_time": "2023-07-29T13:07:34.418645900Z"
    }
   }
  },
  {
   "cell_type": "code",
   "execution_count": 21,
   "outputs": [
    {
     "name": "stdout",
     "output_type": "stream",
     "text": [
      "I guess if a film has magic, I don't need it to be fluid or seamless. It can skip background information, go too fast in some places, too slow in others, etc. Magic in this film: the scene in the library. There are many minor flaws in Stanley & Iris, yet they don't detract from the overall positive impact of watching people help each other in areas of life that seem the most incomprehensible, the hardest to fix. Both characters are smart. Yet Stanley can't understand enough to function because he can't read; he can't read because he's had too much adventure in his childhood. Iris, although well-educated, hasn't had enough adventure and so can't understand how to move past the U-turn her life took. In both their faults and strengths, the characters compliment each other. It may be a bit of a stretch to accept that an Iris would wind up working year after year in a factory, or that a Stanley never hid his illiteracy enough to work in construction or some other better-paying job. And while these \"mysteries\" are explained in the course of the story, their unfolding seems somewhat contrived. I assume no one took the time to rethink the script. Even so, it's a good movieAjust imagine what De Niro, Fonda and Plimpton would have done on screen if someone had!\n"
     ]
    }
   ],
   "source": [
    "print(remove_accented_characters(review_2))"
   ],
   "metadata": {
    "collapsed": false,
    "ExecuteTime": {
     "end_time": "2023-07-29T13:07:35.425232Z",
     "start_time": "2023-07-29T13:07:35.315861200Z"
    }
   }
  },
  {
   "cell_type": "code",
   "execution_count": 22,
   "outputs": [],
   "source": [
    "def tokenize(text):\n",
    "    tokens = word_tokenize(text)\n",
    "    return tokens"
   ],
   "metadata": {
    "collapsed": false,
    "ExecuteTime": {
     "end_time": "2023-07-29T13:07:36.157658200Z",
     "start_time": "2023-07-29T13:07:36.110786300Z"
    }
   }
  },
  {
   "cell_type": "code",
   "execution_count": 23,
   "outputs": [
    {
     "name": "stdout",
     "output_type": "stream",
     "text": [
      "If I had not read Pat Barker's 'Union Street' before seeing this film, I would have liked it. Unfortuntately this is not the case. It is actually my kind of film, it is well made, and in no way do I want to say otherwise, but as an adaptation, it fails from every angle.<br /><br />The harrowing novel about the reality of living in a northern England working-class area grabbed hold of my heartstrings and refused to let go for weeks after I had finished. I was put through tears, repulsion, shock, anger, sympathy and misery when reading about the women of Union Street. Excellent. A novel that at times I felt I could not read any more of, but I novel I simply couldn't put down. Depressing yes, but utterly gripping.<br /><br />The film. Oh dear. Hollywood took Barker's truth and reality, and showered a layer of sweet icing sugar over the top of it. A beautiful film, an inspiring soundtrack, excellent performances, a tale of hope and romance...yes. An adaptation of 'Union Street'...no.<br /><br />The women of Union Street and their stories are condensed into Fonda's character, their stories are touched on, but many are discarded. I accept that some of Barker's tales are sensitive issues and are too horrific for mass viewing, and that a film with around 7 leading protagonists just isn't practical, but the content is not my main issue. The essence and the real gut of the novel is lost - darkness and rain, broken windows covered with cardboard, and the graphically described stench of poverty is replaced with sunshine, pretty houses, and a twinkling William's score.<br /><br />If you enjoyed the film for its positivity and hope in the face of 'reality', I advise that you hesitate to read the book without first preparing yourself for something more like 'Schindler's List'...but without the happy ending.\n"
     ]
    }
   ],
   "source": [
    "review_3 = read_document('data/train/neg/3_4.txt', 'utf-8')\n",
    "print(review_3)"
   ],
   "metadata": {
    "collapsed": false,
    "ExecuteTime": {
     "end_time": "2023-07-29T13:07:37.221243300Z",
     "start_time": "2023-07-29T13:07:37.080623600Z"
    }
   }
  },
  {
   "cell_type": "code",
   "execution_count": 24,
   "outputs": [
    {
     "name": "stdout",
     "output_type": "stream",
     "text": [
      "I | guess | if | a | film | has | magic | , | I | do | n't | need | it | to | be | fluid | or | seamless | . | It | can | skip | background | information | , | go | too | fast | in | some | places | , | too | slow | in | others | , | etc | . | Magic | in | this | film | : | the | scene | in | the | library | . | There | are | many | minor | flaws | in | Stanley | & | Iris | , | yet | they | do | n't | detract | from | the | overall | positive | impact | of | watching | people | help | each | other | in | areas | of | life | that | seem | the | most | incomprehensible | , | the | hardest | to | fix | . | Both | characters | are | smart | . | Yet | Stanley | ca | n't | understand | enough | to | function | because | he | ca | n't | read | ; | he | ca | n't | read | because | he | 's | had | too | much | adventure | in | his | childhood | . | Iris | , | although | well-educated | , | has | n't | had | enough | adventure | and | so | ca | n't | understand | how | to | move | past | the | U-turn | her | life | took | . | In | both | their | faults | and | strengths | , | the | characters | compliment | each | other | . | It | may | be | a | bit | of | a | stretch | to | accept | that | an | Iris | would | wind | up | working | year | after | year | in | a | factory | , | or | that | a | Stanley | never | hid | his | illiteracy | enough | to | work | in | construction | or | some | other | better-paying | job | . | And | while | these | `` | mysteries | '' | are | explained | in | the | course | of | the | story | , | their | unfolding | seems | somewhat | contrived | . | I | assume | no | one | took | the | time | to | rethink | the | script | . | Even | so | , | it | 's | a | good | movieÂ—just | imagine | what | De | Niro | , | Fonda | and | Plimpton | would | have | done | on | screen | if | someone | had | ! | "
     ]
    }
   ],
   "source": [
    "for token in tokenize(review_2):\n",
    "    print(token, end=' | ')"
   ],
   "metadata": {
    "collapsed": false,
    "ExecuteTime": {
     "end_time": "2023-07-29T13:07:38.632299400Z",
     "start_time": "2023-07-29T13:07:38.258419900Z"
    }
   }
  },
  {
   "cell_type": "code",
   "execution_count": 24,
   "outputs": [],
   "source": [],
   "metadata": {
    "collapsed": false,
    "ExecuteTime": {
     "end_time": "2023-07-29T13:07:39.766484200Z",
     "start_time": "2023-07-29T13:07:39.672738100Z"
    }
   }
  },
  {
   "cell_type": "code",
   "execution_count": 24,
   "outputs": [],
   "source": [],
   "metadata": {
    "collapsed": false,
    "ExecuteTime": {
     "end_time": "2023-07-29T13:07:40.976031100Z",
     "start_time": "2023-07-29T13:07:40.913533600Z"
    }
   }
  },
  {
   "cell_type": "code",
   "execution_count": 25,
   "outputs": [
    {
     "name": "stdout",
     "output_type": "stream",
     "text": [
      "Pat Barker's ' - PERSON\n",
      "People, including fictional\n",
      "\n",
      "\n",
      "Union Street' - FAC\n",
      "Buildings, airports, highways, bridges, etc.\n",
      "\n",
      "\n",
      "England - GPE\n",
      "Countries, cities, states\n",
      "\n",
      "\n",
      "weeks - DATE\n",
      "Absolute or relative dates or periods\n",
      "\n",
      "\n",
      "Union Street - FAC\n",
      "Buildings, airports, highways, bridges, etc.\n",
      "\n",
      "\n",
      "Hollywood - GPE\n",
      "Countries, cities, states\n",
      "\n",
      "\n",
      "Barker - ORG\n",
      "Companies, agencies, institutions, etc.\n",
      "\n",
      "\n",
      "Union Street - FAC\n",
      "Buildings, airports, highways, bridges, etc.\n",
      "\n",
      "\n",
      "Fonda - PERSON\n",
      "People, including fictional\n",
      "\n",
      "\n",
      "Barker - ORG\n",
      "Companies, agencies, institutions, etc.\n",
      "\n",
      "\n",
      "7 - CARDINAL\n",
      "Numerals that do not fall under another type\n",
      "\n",
      "\n",
      "William - PERSON\n",
      "People, including fictional\n",
      "\n",
      "\n",
      "first - ORDINAL\n",
      "\"first\", \"second\", etc.\n",
      "\n",
      "\n",
      "Schindler - PERSON\n",
      "People, including fictional\n",
      "\n",
      "\n"
     ]
    }
   ],
   "source": [
    "doc = nlp(review_3)\n",
    "for entity in doc.ents:\n",
    "    print(f'{entity} - {entity.label_}')\n",
    "    print(str(spacy.explain(entity.label_)))\n",
    "    print('\\n')"
   ],
   "metadata": {
    "collapsed": false,
    "ExecuteTime": {
     "end_time": "2023-07-29T13:07:44.754165700Z",
     "start_time": "2023-07-29T13:07:43.021501800Z"
    }
   }
  },
  {
   "cell_type": "code",
   "execution_count": 25,
   "outputs": [],
   "source": [],
   "metadata": {
    "collapsed": false,
    "ExecuteTime": {
     "end_time": "2023-07-29T13:07:46.268525800Z",
     "start_time": "2023-07-29T13:07:46.221652400Z"
    }
   }
  },
  {
   "cell_type": "code",
   "execution_count": 26,
   "outputs": [],
   "source": [
    "def remove_special_characters(text, remove_digits=False):\n",
    "    special_chars_pattern = r'[^a-zA-Z0-9\\s]' if not remove_digits else r'[^a-zA-Z\\s]'\n",
    "    compiled_pattern = re.compile(special_chars_pattern)\n",
    "    return compiled_pattern.sub(r'', text)"
   ],
   "metadata": {
    "collapsed": false,
    "ExecuteTime": {
     "end_time": "2023-07-29T13:07:47.185964200Z",
     "start_time": "2023-07-29T13:07:47.060967Z"
    }
   }
  },
  {
   "cell_type": "code",
   "execution_count": 27,
   "outputs": [
    {
     "name": "stdout",
     "output_type": "stream",
     "text": [
      "I guess if a film has magic, I don't need it to be fluid or seamless. It can skip background information, go too fast in some places, too slow in others, etc. Magic in this film: the scene in the library. There are many minor flaws in Stanley & Iris, yet they don't detract from the overall positive impact of watching people help each other in areas of life that seem the most incomprehensible, the hardest to fix. Both characters are smart. Yet Stanley can't understand enough to function because he can't read; he can't read because he's had too much adventure in his childhood. Iris, although well-educated, hasn't had enough adventure and so can't understand how to move past the U-turn her life took. In both their faults and strengths, the characters compliment each other. It may be a bit of a stretch to accept that an Iris would wind up working year after year in a factory, or that a Stanley never hid his illiteracy enough to work in construction or some other better-paying job. And while these \"mysteries\" are explained in the course of the story, their unfolding seems somewhat contrived. I assume no one took the time to rethink the script. Even so, it's a good movieÂ—just imagine what De Niro, Fonda and Plimpton would have done on screen if someone had!\n"
     ]
    }
   ],
   "source": [
    "print(review_2)"
   ],
   "metadata": {
    "collapsed": false,
    "ExecuteTime": {
     "end_time": "2023-07-29T13:07:49.354017400Z",
     "start_time": "2023-07-29T13:07:49.307144800Z"
    }
   }
  },
  {
   "cell_type": "code",
   "execution_count": 28,
   "outputs": [
    {
     "name": "stdout",
     "output_type": "stream",
     "text": [
      "I guess if a film has magic I dont need it to be fluid or seamless It can skip background information go too fast in some places too slow in others etc Magic in this film the scene in the library There are many minor flaws in Stanley  Iris yet they dont detract from the overall positive impact of watching people help each other in areas of life that seem the most incomprehensible the hardest to fix Both characters are smart Yet Stanley cant understand enough to function because he cant read he cant read because hes had too much adventure in his childhood Iris although welleducated hasnt had enough adventure and so cant understand how to move past the Uturn her life took In both their faults and strengths the characters compliment each other It may be a bit of a stretch to accept that an Iris would wind up working year after year in a factory or that a Stanley never hid his illiteracy enough to work in construction or some other betterpaying job And while these mysteries are explained in the course of the story their unfolding seems somewhat contrived I assume no one took the time to rethink the script Even so its a good moviejust imagine what De Niro Fonda and Plimpton would have done on screen if someone had\n"
     ]
    }
   ],
   "source": [
    "print(remove_special_characters(review_2, remove_digits=True))"
   ],
   "metadata": {
    "collapsed": false,
    "ExecuteTime": {
     "end_time": "2023-07-29T13:07:50.178882200Z",
     "start_time": "2023-07-29T13:07:50.100760300Z"
    }
   }
  },
  {
   "cell_type": "code",
   "execution_count": 28,
   "outputs": [],
   "source": [],
   "metadata": {
    "collapsed": false,
    "ExecuteTime": {
     "end_time": "2023-07-29T13:07:51.110150300Z",
     "start_time": "2023-07-29T13:07:51.063276Z"
    }
   }
  },
  {
   "cell_type": "code",
   "execution_count": 29,
   "outputs": [],
   "source": [
    "def correct_spelling(text):\n",
    "    spell = SpellChecker()\n",
    "\n",
    "    corrected_text = []\n",
    "    misspelled_words = spell.unknown(text.split())\n",
    "\n",
    "    for word in text.split():\n",
    "        if word in misspelled_words:\n",
    "            corrected_text.append(spell.correction(word))\n",
    "        else:\n",
    "            corrected_text.append(word)\n",
    "\n",
    "    return ' '.join(corrected_text)"
   ],
   "metadata": {
    "collapsed": false,
    "ExecuteTime": {
     "end_time": "2023-07-29T13:07:51.725030700Z",
     "start_time": "2023-07-29T13:07:51.678167600Z"
    }
   }
  },
  {
   "cell_type": "code",
   "execution_count": 29,
   "outputs": [],
   "source": [],
   "metadata": {
    "collapsed": false,
    "ExecuteTime": {
     "end_time": "2023-07-29T13:07:52.984743100Z",
     "start_time": "2023-07-29T13:07:52.922246600Z"
    }
   }
  },
  {
   "cell_type": "code",
   "execution_count": 30,
   "outputs": [],
   "source": [
    "# def emoticon_to_words(text):\n",
    "#     for emoticon in EMOTICONS_EMO:\n",
    "#         text = re.sub(u'(' + emoticon + ')', \"_\".join(EMOTICONS_EMO[emoticon].replace(\",\", \"\").split()), text)\n",
    "#     return text"
   ],
   "metadata": {
    "collapsed": false,
    "ExecuteTime": {
     "end_time": "2023-07-29T13:07:53.750037800Z",
     "start_time": "2023-07-29T13:07:53.640667300Z"
    }
   }
  },
  {
   "cell_type": "code",
   "execution_count": 31,
   "outputs": [],
   "source": [
    "# def emoticon_to_words(text):\n",
    "#     for emoticon in EMOTICONS_EMO:\n",
    "#         text = re.sub(re.escape(emoticon), EMOTICONS_EMO[emoticon], text)\n",
    "#     return text"
   ],
   "metadata": {
    "collapsed": false,
    "ExecuteTime": {
     "end_time": "2023-07-29T13:07:54.105572200Z",
     "start_time": "2023-07-29T13:07:54.043074Z"
    }
   }
  },
  {
   "cell_type": "code",
   "execution_count": 31,
   "outputs": [],
   "source": [],
   "metadata": {
    "collapsed": false,
    "ExecuteTime": {
     "end_time": "2023-07-29T13:07:54.557623400Z",
     "start_time": "2023-07-29T13:07:54.526375700Z"
    }
   }
  },
  {
   "cell_type": "code",
   "execution_count": 31,
   "outputs": [],
   "source": [],
   "metadata": {
    "collapsed": false,
    "ExecuteTime": {
     "end_time": "2023-07-29T13:07:55.596206200Z",
     "start_time": "2023-07-29T13:07:55.549332100Z"
    }
   }
  },
  {
   "cell_type": "code",
   "execution_count": 32,
   "outputs": [
    {
     "name": "stdout",
     "output_type": "stream",
     "text": [
      "\\(a\\^b\\)\n",
      "f*(a^b) - 3*(a^b)\n",
      "f*c - 3*c\n"
     ]
    }
   ],
   "source": [
    "expr = '(a^b)'\n",
    "print(re.escape(expr))\n",
    "\n",
    "eqn = 'f*(a^b) - 3*(a^b)'\n",
    "re.sub(expr, 'c', eqn)\n",
    "print(eqn)\n",
    "print(re.sub(re.escape(expr), 'c', eqn))"
   ],
   "metadata": {
    "collapsed": false,
    "ExecuteTime": {
     "end_time": "2023-07-29T13:07:56.180223300Z",
     "start_time": "2023-07-29T13:07:56.070849200Z"
    }
   }
  },
  {
   "cell_type": "code",
   "execution_count": 32,
   "outputs": [],
   "source": [],
   "metadata": {
    "collapsed": false,
    "ExecuteTime": {
     "end_time": "2023-07-29T13:07:57.129522100Z",
     "start_time": "2023-07-29T13:07:57.098275500Z"
    }
   }
  },
  {
   "cell_type": "code",
   "execution_count": 32,
   "outputs": [],
   "source": [],
   "metadata": {
    "collapsed": false,
    "ExecuteTime": {
     "end_time": "2023-07-29T13:07:57.689250100Z",
     "start_time": "2023-07-29T13:07:57.626751600Z"
    }
   }
  },
  {
   "cell_type": "code",
   "execution_count": 33,
   "outputs": [],
   "source": [
    "def convert_emojis_and_emoticons(text):\n",
    "    emot_obj = emot.core.emot()\n",
    "    emoji_info = emot_obj.emoji(text)\n",
    "    emoticon_info = emot_obj.emoticons(text)\n",
    "\n",
    "    if emoji_info['flag']:\n",
    "        for emoji, meaning in zip(emoji_info['value'], emoji_info['mean']):\n",
    "            meaning = ' '.join(re.split(r'[_-]', meaning))\n",
    "            text = re.sub(emoji, ' ' + meaning + ' ', text)\n",
    "\n",
    "    if emoticon_info['flag']:\n",
    "        for emoticon, meaning in zip(emoticon_info['value'], emoticon_info['mean']):\n",
    "            text = re.sub(re.escape(emoticon), ' ' + meaning + ' ', text)\n",
    "\n",
    "    return text"
   ],
   "metadata": {
    "collapsed": false,
    "ExecuteTime": {
     "end_time": "2023-07-29T13:07:58.340939700Z",
     "start_time": "2023-07-29T13:07:58.215943900Z"
    }
   }
  },
  {
   "cell_type": "code",
   "execution_count": 34,
   "outputs": [
    {
     "data": {
      "text/plain": "'couple with heart man man medium light skin tone dark skin tone'"
     },
     "execution_count": 34,
     "metadata": {},
     "output_type": "execute_result"
    }
   ],
   "source": [
    "s1 = 'couple_with_heart_man_man_medium-light_skin_tone_dark_skin_tone'\n",
    "s2 = 'dolphin'\n",
    "s = ' '.join(re.split(r'[_-]', s1))\n",
    "s"
   ],
   "metadata": {
    "collapsed": false,
    "ExecuteTime": {
     "end_time": "2023-07-29T13:07:59.439996500Z",
     "start_time": "2023-07-29T13:07:59.393123500Z"
    }
   }
  },
  {
   "cell_type": "code",
   "execution_count": 35,
   "outputs": [],
   "source": [
    "text_with_emoji = read_document('data/train/pos/11572_8.txt', 'utf-8')"
   ],
   "metadata": {
    "collapsed": false,
    "ExecuteTime": {
     "end_time": "2023-07-29T13:08:00.409475400Z",
     "start_time": "2023-07-29T13:08:00.284486500Z"
    }
   }
  },
  {
   "cell_type": "code",
   "execution_count": 36,
   "outputs": [
    {
     "name": "stdout",
     "output_type": "stream",
     "text": [
      "\"In April 1946, the University of Chicago agreed to operate Argonne National Laboratory, with an association of Midwestern universities offering to sponsor the research. Argonne thereby became the first \"national\" laboratory. It did not, however, remain at its original location in the Argonne forest. In 1947, it moved farther west from the \"Windy City\" to a new site on Illinois farmland. When Alvin Weinberg visited Argonne's director, Walter Zinn, in 1947, he asked him what kind of reactor was to be built at the new site. When Zinn described a heavy-water reactor operating at one-tenth the power of the Materials Testing Reactor under design at Oak Ridge, Weinberg joked it would be simpler if Zinn took the Oak Ridge design and operated the Materials Testing Reactor at one-tenth capacity. The joke proved unintentionally prophetic.\"<br /><br />The S-50 plant used convection to separate the isotopes in thousands of tall columns. It was built next to the K-25 power plant, which provided the necessary steam. Much less efficient than K-25, the S-50 plant was torn down after the war.<br /><br />Concerned that the Atomic Energy Commission research program might become too academic, Lilienthal established a committee of industrial advisers, and during a November visit to Oak Ridge, he discussed with Clark Center, manager of Carbide & Carbon, a subsidiary of Union Carbide Corporation at Oak Ridge, the possibility of the company assuming management of the Laboratory.<br /><br />Prince Henry (of Prussia) Arriving in Washington and Visiting the German Embassy (1902). Evidently, with Prince Henry of Prussia according to the principles of science and its dangers their were already concerns with the applications of new science with military applications. The Hohenzollern (1902/II), \"Kaiser Wilhelm's splendid yacht at the 34th St. Pier, New York. Taken at the exact moment of Prince Henry's arrival, and the raising of the royal standard.\" If Royalty knew of these necessary precautions to citizen welfare then what was the necessity of the warfare WWI and WWII. The quality of management control I presume?<br /><br />Thus, did the commandos of Operation Swallow volunteer for a military mission, or a business plan, based on the security principles of Laboratory management? Because supposedly their were no survivors, and the ones who were caught in Europe ordered to be executed. Of the 400 man commando team the survivors who were captured were executed under orders of the German Army against subversion, and espionage acts of the State of Germany. <br /><br />The Führer No. 003830/42 g. Kdos. OKW/WFSt, Führer HQ, 18 Oct. 1942, (signed) Adolph Hitler; Translation of Document no. 498-PS, Office of U.S. Chief of Counsel, certified true copy Kipp Major, declassified DOD 5200.30 March 23, 1983, reproduced at the U.S. National Archives.<br /><br />The OSS Society® 6723 Whittier Ave., 200 McLean, VA 22101\n"
     ]
    }
   ],
   "source": [
    "print(text_with_emoji)"
   ],
   "metadata": {
    "collapsed": false,
    "ExecuteTime": {
     "end_time": "2023-07-29T13:08:01.660724300Z",
     "start_time": "2023-07-29T13:08:01.582603600Z"
    }
   }
  },
  {
   "cell_type": "code",
   "execution_count": 36,
   "outputs": [],
   "source": [],
   "metadata": {
    "collapsed": false,
    "ExecuteTime": {
     "end_time": "2023-07-29T13:08:02.919832200Z",
     "start_time": "2023-07-29T13:08:02.826086800Z"
    }
   }
  },
  {
   "cell_type": "code",
   "execution_count": 37,
   "outputs": [
    {
     "name": "stdout",
     "output_type": "stream",
     "text": [
      "{'value': [':-)'], 'location': [[1032, 1035]], 'mean': ['Happy face smiley'], 'flag': True}\n"
     ]
    }
   ],
   "source": [
    "emot_obj_ = emot.core.emot()\n",
    "tmp = emot_obj_.emoticons(review_1)\n",
    "print(tmp)"
   ],
   "metadata": {
    "collapsed": false,
    "ExecuteTime": {
     "end_time": "2023-07-29T13:08:05.398675400Z",
     "start_time": "2023-07-29T13:08:03.265061100Z"
    }
   }
  },
  {
   "cell_type": "code",
   "execution_count": 37,
   "outputs": [],
   "source": [],
   "metadata": {
    "collapsed": false,
    "ExecuteTime": {
     "end_time": "2023-07-29T13:08:06.199139200Z",
     "start_time": "2023-07-29T13:08:06.167893500Z"
    }
   }
  },
  {
   "cell_type": "code",
   "execution_count": 38,
   "outputs": [
    {
     "name": "stdout",
     "output_type": "stream",
     "text": [
      "hello 😇\n",
      "hello \n"
     ]
    }
   ],
   "source": [
    "s = \"hello 😇\"\n",
    "c = '😇'\n",
    "print(s)\n",
    "\n",
    "txt = re.sub(c, '', s)\n",
    "print(txt)"
   ],
   "metadata": {
    "collapsed": false,
    "ExecuteTime": {
     "end_time": "2023-07-29T13:08:06.872334700Z",
     "start_time": "2023-07-29T13:08:06.762963900Z"
    }
   }
  },
  {
   "cell_type": "code",
   "execution_count": 39,
   "outputs": [
    {
     "data": {
      "text/plain": "'In this film we have the fabulous opportunity to see what happened to Timon and Pumbaa in the film when they are not shown - which is a lot! This film even goes back to before Simba and (presumbably) just after the birth of Kiara. <br /><br />Quite true to the first film, \"Lion King 1/2 (or Lion King 3 in other places)\" is a funny, entertaining, exciting and surprising film (or sequel if that\\'s what you want to call it). A bundle of surprises and hilarity await for you!<br /><br />While Timon and Pumbaa are watching a film at the cinema (with a remote control), Timon and Pumbaa have an argument of what point of \"The Lion King\" they are going to start watching, as Timon wants to go to the part when he and Pumbaa come in and Pumbaa wants to go back to the beginning. They have a very fair compromise of watching the film of their own story, which is what awaits... It starts with Timon\\'s first home...<br /><br />For anyone with a good sense of humour who liked the first films of just about any age, enjoy \"Lion King 1/2\"! :-)'"
     },
     "execution_count": 39,
     "metadata": {},
     "output_type": "execute_result"
    }
   ],
   "source": [
    "review_1"
   ],
   "metadata": {
    "collapsed": false,
    "ExecuteTime": {
     "end_time": "2023-07-29T13:08:07.660235100Z",
     "start_time": "2023-07-29T13:08:07.566489600Z"
    }
   }
  },
  {
   "cell_type": "code",
   "execution_count": 40,
   "outputs": [
    {
     "name": "stdout",
     "output_type": "stream",
     "text": [
      "In this film we have the fabulous opportunity to see what happened to Timon and Pumbaa in the film when they are not shown - which is a lot! This film even goes back to before Simba and (presumbably) just after the birth of Kiara. <br /><br />Quite true to the first film, \"Lion King 1/2 (or Lion King 3 in other places)\" is a funny, entertaining, exciting and surprising film (or sequel if that's what you want to call it). A bundle of surprises and hilarity await for you!<br /><br />While Timon and Pumbaa are watching a film at the cinema (with a remote control), Timon and Pumbaa have an argument of what point of \"The Lion King\" they are going to start watching, as Timon wants to go to the part when he and Pumbaa come in and Pumbaa wants to go back to the beginning. They have a very fair compromise of watching the film of their own story, which is what awaits... It starts with Timon's first home...<br /><br />For anyone with a good sense of humour who liked the first films of just about any age, enjoy \"Lion King 1/2\"!  Happy face smiley \n"
     ]
    }
   ],
   "source": [
    "print(convert_emojis_and_emoticons(review_1))"
   ],
   "metadata": {
    "collapsed": false,
    "ExecuteTime": {
     "end_time": "2023-07-29T13:08:08.692721900Z",
     "start_time": "2023-07-29T13:08:08.316676Z"
    }
   }
  },
  {
   "cell_type": "markdown",
   "source": [
    "STOPWORDS"
   ],
   "metadata": {
    "collapsed": false
   }
  },
  {
   "cell_type": "code",
   "execution_count": 41,
   "outputs": [
    {
     "name": "stdout",
     "output_type": "stream",
     "text": [
      "['i', 'me', 'my', 'myself', 'we', 'our', 'ours', 'ourselves', 'you', \"you're\", \"you've\", \"you'll\", \"you'd\", 'your', 'yours', 'yourself', 'yourselves', 'he', 'him', 'his', 'himself', 'she', \"she's\", 'her', 'hers', 'herself', 'it', \"it's\", 'its', 'itself', 'they', 'them', 'their', 'theirs', 'themselves', 'what', 'which', 'who', 'whom', 'this', 'that', \"that'll\", 'these', 'those', 'am', 'is', 'are', 'was', 'were', 'be', 'been', 'being', 'have', 'has', 'had', 'having', 'do', 'does', 'did', 'doing', 'a', 'an', 'the', 'and', 'but', 'if', 'or', 'because', 'as', 'until', 'while', 'of', 'at', 'by', 'for', 'with', 'about', 'against', 'between', 'into', 'through', 'during', 'before', 'after', 'above', 'below', 'to', 'from', 'up', 'down', 'in', 'out', 'on', 'off', 'over', 'under', 'again', 'further', 'then', 'once', 'here', 'there', 'when', 'where', 'why', 'how', 'all', 'any', 'both', 'each', 'few', 'more', 'most', 'other', 'some', 'such', 'no', 'nor', 'not', 'only', 'own', 'same', 'so', 'than', 'too', 'very', 's', 't', 'can', 'will', 'just', 'don', \"don't\", 'should', \"should've\", 'now', 'd', 'll', 'm', 'o', 're', 've', 'y', 'ain', 'aren', \"aren't\", 'couldn', \"couldn't\", 'didn', \"didn't\", 'doesn', \"doesn't\", 'hadn', \"hadn't\", 'hasn', \"hasn't\", 'haven', \"haven't\", 'isn', \"isn't\", 'ma', 'mightn', \"mightn't\", 'mustn', \"mustn't\", 'needn', \"needn't\", 'shan', \"shan't\", 'shouldn', \"shouldn't\", 'wasn', \"wasn't\", 'weren', \"weren't\", 'won', \"won't\", 'wouldn', \"wouldn't\"]\n"
     ]
    }
   ],
   "source": [
    "from nltk.corpus import stopwords as stopwords\n",
    "stopwords_nltk = stopwords.words('english')\n",
    "print(stopwords_nltk)"
   ],
   "metadata": {
    "collapsed": false,
    "ExecuteTime": {
     "end_time": "2023-07-29T13:08:10.604330300Z",
     "start_time": "2023-07-29T13:08:10.369964200Z"
    }
   }
  },
  {
   "cell_type": "code",
   "execution_count": 42,
   "outputs": [
    {
     "name": "stdout",
     "output_type": "stream",
     "text": [
      "[\"'d\", \"'ll\", \"'m\", \"'re\", \"'s\", \"'ve\", 'a', 'about', 'above', 'across', 'after', 'afterwards', 'again', 'against', 'all', 'almost', 'alone', 'along', 'already', 'also', 'although', 'always', 'am', 'among', 'amongst', 'amount', 'an', 'and', 'another', 'any', 'anyhow', 'anyone', 'anything', 'anyway', 'anywhere', 'are', 'around', 'as', 'at', 'back', 'be', 'became', 'because', 'become', 'becomes', 'becoming', 'been', 'before', 'beforehand', 'behind', 'being', 'below', 'beside', 'besides', 'between', 'beyond', 'both', 'bottom', 'but', 'by', 'ca', 'call', 'can', 'cannot', 'could', 'did', 'do', 'does', 'doing', 'done', 'down', 'due', 'during', 'each', 'eight', 'either', 'eleven', 'else', 'elsewhere', 'empty', 'enough', 'even', 'ever', 'every', 'everyone', 'everything', 'everywhere', 'except', 'few', 'fifteen', 'fifty', 'first', 'five', 'for', 'former', 'formerly', 'forty', 'four', 'from', 'front', 'full', 'further', 'get', 'give', 'go', 'had', 'has', 'have', 'he', 'hence', 'her', 'here', 'hereafter', 'hereby', 'herein', 'hereupon', 'hers', 'herself', 'him', 'himself', 'his', 'how', 'however', 'hundred', 'i', 'if', 'in', 'indeed', 'into', 'is', 'it', 'its', 'itself', 'just', 'keep', 'last', 'latter', 'latterly', 'least', 'less', 'made', 'make', 'many', 'may', 'me', 'meanwhile', 'might', 'mine', 'more', 'moreover', 'most', 'mostly', 'move', 'much', 'must', 'my', 'myself', \"n't\", 'name', 'namely', 'neither', 'never', 'nevertheless', 'next', 'nine', 'no', 'nobody', 'none', 'noone', 'nor', 'not', 'nothing', 'now', 'nowhere', 'n‘t', 'n’t', 'of', 'off', 'often', 'on', 'once', 'one', 'only', 'onto', 'or', 'other', 'others', 'otherwise', 'our', 'ours', 'ourselves', 'out', 'over', 'own', 'part', 'per', 'perhaps', 'please', 'put', 'quite', 'rather', 're', 'really', 'regarding', 'same', 'say', 'see', 'seem', 'seemed', 'seeming', 'seems', 'serious', 'several', 'she', 'should', 'show', 'side', 'since', 'six', 'sixty', 'so', 'some', 'somehow', 'someone', 'something', 'sometime', 'sometimes', 'somewhere', 'still', 'such', 'take', 'ten', 'than', 'that', 'the', 'their', 'them', 'themselves', 'then', 'thence', 'there', 'thereafter', 'thereby', 'therefore', 'therein', 'thereupon', 'these', 'they', 'third', 'this', 'those', 'though', 'three', 'through', 'throughout', 'thru', 'thus', 'to', 'together', 'too', 'top', 'toward', 'towards', 'twelve', 'twenty', 'two', 'under', 'unless', 'until', 'up', 'upon', 'us', 'used', 'using', 'various', 'very', 'via', 'was', 'we', 'well', 'were', 'what', 'whatever', 'when', 'whence', 'whenever', 'where', 'whereafter', 'whereas', 'whereby', 'wherein', 'whereupon', 'wherever', 'whether', 'which', 'while', 'whither', 'who', 'whoever', 'whole', 'whom', 'whose', 'why', 'will', 'with', 'within', 'without', 'would', 'yet', 'you', 'your', 'yours', 'yourself', 'yourselves', '‘d', '‘ll', '‘m', '‘re', '‘s', '‘ve', '’d', '’ll', '’m', '’re', '’s', '’ve']\n"
     ]
    }
   ],
   "source": [
    "stopwords_spacy = nlp.Defaults.stop_words\n",
    "print(sorted(stopwords_spacy))"
   ],
   "metadata": {
    "collapsed": false,
    "ExecuteTime": {
     "end_time": "2023-07-29T13:08:13.708500600Z",
     "start_time": "2023-07-29T13:08:13.646000300Z"
    }
   }
  },
  {
   "cell_type": "code",
   "execution_count": 43,
   "outputs": [],
   "source": [
    "def remove_stopwords(text, stopword_list):\n",
    "    tokens = tokenize(text)\n",
    "    tokens = [token.strip() for token in tokens]\n",
    "    filtered_tokens = [token for token in tokens if token not in stopword_list]\n",
    "    filtered_text = ' '.join(filtered_tokens)\n",
    "    return filtered_text"
   ],
   "metadata": {
    "collapsed": false,
    "ExecuteTime": {
     "end_time": "2023-07-29T13:08:15.826290200Z",
     "start_time": "2023-07-29T13:08:15.763792400Z"
    }
   }
  },
  {
   "cell_type": "code",
   "execution_count": 44,
   "outputs": [
    {
     "name": "stdout",
     "output_type": "stream",
     "text": [
      "Story of a man who has unnatural feelings for a pig. Starts out with a opening scene that is a terrific example of absurd comedy. A formal orchestra audience is turned into an insane, violent mob by the crazy chantings of it's singers. Unfortunately it stays absurd the WHOLE time with no general narrative eventually making it just too off putting. Even those from the era should be turned off. The cryptic dialogue would make Shakespeare seem easy to a third grader. On a technical level it's better than you might think with some good cinematography by future great Vilmos Zsigmond. Future stars Sally Kirkland and Frederic Forrest can be seen briefly.\n"
     ]
    }
   ],
   "source": [
    "review_4 = read_document('data/train/neg/0_3.txt', 'utf-8')\n",
    "print(review_4)"
   ],
   "metadata": {
    "collapsed": false,
    "ExecuteTime": {
     "end_time": "2023-07-29T13:08:16.769808600Z",
     "start_time": "2023-07-29T13:08:16.660437900Z"
    }
   }
  },
  {
   "cell_type": "code",
   "execution_count": 45,
   "outputs": [
    {
     "name": "stdout",
     "output_type": "stream",
     "text": [
      "story man unnatural feelings pig . starts opening scene terrific example absurd comedy . formal orchestra audience turned insane , violent mob crazy chantings 's singers . unfortunately stays absurd whole time general narrative eventually making putting . even era turned . cryptic dialogue would make shakespeare seem easy third grader . technical level 's better might think good cinematography future great vilmos zsigmond . future stars sally kirkland frederic forrest seen briefly .\n"
     ]
    }
   ],
   "source": [
    "t1 = remove_stopwords(review_4.lower(), stopwords_nltk)\n",
    "print(t1)"
   ],
   "metadata": {
    "collapsed": false,
    "ExecuteTime": {
     "end_time": "2023-07-29T13:08:21.202878900Z",
     "start_time": "2023-07-29T13:08:21.109131600Z"
    }
   }
  },
  {
   "cell_type": "code",
   "execution_count": 46,
   "outputs": [
    {
     "name": "stdout",
     "output_type": "stream",
     "text": [
      "story man unnatural feelings pig . starts opening scene terrific example absurd comedy . formal orchestra audience turned insane , violent mob crazy chantings singers . unfortunately stays absurd time general narrative eventually making putting . era turned . cryptic dialogue shakespeare easy grader . technical level better think good cinematography future great vilmos zsigmond . future stars sally kirkland frederic forrest seen briefly .\n"
     ]
    }
   ],
   "source": [
    "t2 = remove_stopwords(review_4.lower(), stopwords_spacy)\n",
    "print(t2)"
   ],
   "metadata": {
    "collapsed": false,
    "ExecuteTime": {
     "end_time": "2023-07-29T13:08:21.984980600Z",
     "start_time": "2023-07-29T13:08:21.922482500Z"
    }
   }
  },
  {
   "cell_type": "code",
   "execution_count": 47,
   "outputs": [
    {
     "name": "stdout",
     "output_type": "stream",
     "text": [
      "False\n"
     ]
    }
   ],
   "source": [
    "print(t1 == t2)"
   ],
   "metadata": {
    "collapsed": false,
    "ExecuteTime": {
     "end_time": "2023-07-29T13:08:22.730937500Z",
     "start_time": "2023-07-29T13:08:22.605942700Z"
    }
   }
  },
  {
   "cell_type": "markdown",
   "source": [
    "STEMMING"
   ],
   "metadata": {
    "collapsed": false
   }
  },
  {
   "cell_type": "code",
   "execution_count": 48,
   "outputs": [],
   "source": [
    "from nltk.stem import PorterStemmer\n",
    "from nltk.stem import LancasterStemmer\n",
    "from nltk.stem import SnowballStemmer"
   ],
   "metadata": {
    "collapsed": false,
    "ExecuteTime": {
     "end_time": "2023-07-29T13:08:24.787105300Z",
     "start_time": "2023-07-29T13:08:24.521489500Z"
    }
   }
  },
  {
   "cell_type": "code",
   "execution_count": 49,
   "outputs": [],
   "source": [
    "ps = PorterStemmer()\n",
    "ls = LancasterStemmer()\n",
    "ss = SnowballStemmer('english')"
   ],
   "metadata": {
    "collapsed": false,
    "ExecuteTime": {
     "end_time": "2023-07-29T13:08:26.317136300Z",
     "start_time": "2023-07-29T13:08:26.254637400Z"
    }
   }
  },
  {
   "cell_type": "code",
   "execution_count": 50,
   "outputs": [],
   "source": [
    "stemmers = [ps, ls, ss]\n",
    "words = ['cared', 'university', 'fairly', 'easily', 'singing', 'sings', 'sung', 'singer', 'sportingly', 'program',\n",
    "         'programming', 'programmer', 'programs', 'programmed']"
   ],
   "metadata": {
    "collapsed": false,
    "ExecuteTime": {
     "end_time": "2023-07-29T13:08:27.925431800Z",
     "start_time": "2023-07-29T13:08:27.831684800Z"
    }
   }
  },
  {
   "cell_type": "code",
   "execution_count": 51,
   "outputs": [
    {
     "name": "stdout",
     "output_type": "stream",
     "text": [
      "--Word--            --Stem--            \n",
      "cared               care                \n",
      "cared               car                 \n",
      "cared               care                \n",
      "--------------------------------\n",
      "university          univers             \n",
      "university          univers             \n",
      "university          univers             \n",
      "--------------------------------\n",
      "fairly              fairli              \n",
      "fairly              fair                \n",
      "fairly              fair                \n",
      "--------------------------------\n",
      "easily              easili              \n",
      "easily              easy                \n",
      "easily              easili              \n",
      "--------------------------------\n",
      "singing             sing                \n",
      "singing             sing                \n",
      "singing             sing                \n",
      "--------------------------------\n",
      "sings               sing                \n",
      "sings               sing                \n",
      "sings               sing                \n",
      "--------------------------------\n",
      "sung                sung                \n",
      "sung                sung                \n",
      "sung                sung                \n",
      "--------------------------------\n",
      "singer              singer              \n",
      "singer              sing                \n",
      "singer              singer              \n",
      "--------------------------------\n",
      "sportingly          sportingli          \n",
      "sportingly          sport               \n",
      "sportingly          sport               \n",
      "--------------------------------\n",
      "program             program             \n",
      "program             program             \n",
      "program             program             \n",
      "--------------------------------\n",
      "programming         program             \n",
      "programming         program             \n",
      "programming         program             \n",
      "--------------------------------\n",
      "programmer          programm            \n",
      "programmer          program             \n",
      "programmer          programm            \n",
      "--------------------------------\n",
      "programs            program             \n",
      "programs            program             \n",
      "programs            program             \n",
      "--------------------------------\n",
      "programmed          program             \n",
      "programmed          program             \n",
      "programmed          program             \n",
      "--------------------------------\n"
     ]
    }
   ],
   "source": [
    "print(\"{0:20}{1:20}\".format(\"--Word--\", \"--Stem--\"))\n",
    "for word in words:\n",
    "    for stemmer in stemmers:\n",
    "        print(\"{0:20}{1:20}\".format(word, stemmer.stem(word)))\n",
    "    print(\"--------------------------------\")"
   ],
   "metadata": {
    "collapsed": false,
    "ExecuteTime": {
     "end_time": "2023-07-29T13:08:28.836114300Z",
     "start_time": "2023-07-29T13:08:28.711118600Z"
    }
   }
  },
  {
   "cell_type": "code",
   "execution_count": 98,
   "outputs": [],
   "source": [
    "def stem_text(text, stemmer='ss'):\n",
    "    stemmer_map = {\n",
    "        'ps': PorterStemmer(),\n",
    "        'ls': LancasterStemmer(),\n",
    "        'ss': SnowballStemmer('english')\n",
    "    }\n",
    "\n",
    "    if stemmer not in stemmer_map:\n",
    "        raise ValueError(f\"Invalid stemmer: '{stemmer}'. Choose from 'ps', 'ls', or 'ss'.\")\n",
    "\n",
    "    selected_stemmer = stemmer_map[stemmer]\n",
    "    tokenized_text = word_tokenize(text)\n",
    "    return ' '.join([selected_stemmer.stem(word) for word in tokenized_text])"
   ],
   "metadata": {
    "collapsed": false,
    "ExecuteTime": {
     "end_time": "2023-07-29T16:44:34.361332300Z",
     "start_time": "2023-07-29T16:44:34.330084200Z"
    }
   }
  },
  {
   "cell_type": "code",
   "execution_count": 95,
   "outputs": [
    {
     "name": "stdout",
     "output_type": "stream",
     "text": [
      "Story of a man who has unnatural feelings for a pig. Starts out with a opening scene that is a terrific example of absurd comedy. A formal orchestra audience is turned into an insane, violent mob by the crazy chantings of it's singers. Unfortunately it stays absurd the WHOLE time with no general narrative eventually making it just too off putting. Even those from the era should be turned off. The cryptic dialogue would make Shakespeare seem easy to a third grader. On a technical level it's better than you might think with some good cinematography by future great Vilmos Zsigmond. Future stars Sally Kirkland and Frederic Forrest can be seen briefly.\n"
     ]
    }
   ],
   "source": [
    "print(review_4)"
   ],
   "metadata": {
    "collapsed": false,
    "ExecuteTime": {
     "end_time": "2023-07-29T16:42:58.837398500Z",
     "start_time": "2023-07-29T16:42:58.774906300Z"
    }
   }
  },
  {
   "cell_type": "code",
   "execution_count": 97,
   "outputs": [
    {
     "data": {
      "text/plain": "\"stori of a man who has unnatur feel for a pig . start out with a open scene that is a terrif exampl of absurd comedi . a formal orchestra audienc is turn into an insan , violent mob by the crazi chant of it 's singer . unfortun it stay absurd the whole time with no general narrat eventu make it just too off put . even those from the era should be turn off . the cryptic dialogu would make shakespear seem easi to a third grader . on a technic level it 's better than you might think with some good cinematographi by futur great vilmo zsigmond . futur star salli kirkland and freder forrest can be seen briefli .\""
     },
     "execution_count": 97,
     "metadata": {},
     "output_type": "execute_result"
    }
   ],
   "source": [
    "stem_text(to_lower(review_4))"
   ],
   "metadata": {
    "collapsed": false,
    "ExecuteTime": {
     "end_time": "2023-07-29T16:43:06.357005900Z",
     "start_time": "2023-07-29T16:43:06.310126500Z"
    }
   }
  },
  {
   "cell_type": "markdown",
   "source": [
    "LEMMATIZATION"
   ],
   "metadata": {
    "collapsed": false
   }
  },
  {
   "cell_type": "code",
   "execution_count": 52,
   "outputs": [],
   "source": [
    "from nltk.stem import WordNetLemmatizer"
   ],
   "metadata": {
    "collapsed": false,
    "ExecuteTime": {
     "end_time": "2023-07-29T13:08:32.688274300Z",
     "start_time": "2023-07-29T13:08:32.641374600Z"
    }
   }
  },
  {
   "cell_type": "code",
   "execution_count": 53,
   "outputs": [],
   "source": [
    "wnl = WordNetLemmatizer()"
   ],
   "metadata": {
    "collapsed": false,
    "ExecuteTime": {
     "end_time": "2023-07-29T13:08:33.516635900Z",
     "start_time": "2023-07-29T13:08:33.485381500Z"
    }
   }
  },
  {
   "cell_type": "code",
   "execution_count": 54,
   "outputs": [
    {
     "name": "stdout",
     "output_type": "stream",
     "text": [
      "--Word--            --Lemma--           \n",
      "cared               cared               \n",
      "university          university          \n",
      "fairly              fairly              \n",
      "easily              easily              \n",
      "singing             singing             \n",
      "sings               sings               \n",
      "sung                sung                \n",
      "singer              singer              \n",
      "sportingly          sportingly          \n",
      "program             program             \n",
      "programming         programming         \n",
      "programmer          programmer          \n",
      "programs            program             \n",
      "programmed          programmed          \n"
     ]
    }
   ],
   "source": [
    "print(\"{0:20}{1:20}\".format(\"--Word--\", \"--Lemma--\"))\n",
    "for word in words:\n",
    "    print(\"{0:20}{1:20}\".format(word, wnl.lemmatize(word)))"
   ],
   "metadata": {
    "collapsed": false,
    "ExecuteTime": {
     "end_time": "2023-07-29T13:08:34.155663200Z",
     "start_time": "2023-07-29T13:08:34.077543400Z"
    }
   }
  },
  {
   "cell_type": "code",
   "execution_count": 55,
   "outputs": [],
   "source": [
    "def lemmatize(text):\n",
    "    text = nlp(text)\n",
    "    lemmatized_text = ' '.join([word.lemma_ for word in text])\n",
    "    return lemmatized_text"
   ],
   "metadata": {
    "collapsed": false,
    "ExecuteTime": {
     "end_time": "2023-07-29T13:08:34.813657600Z",
     "start_time": "2023-07-29T13:08:34.735534400Z"
    }
   }
  },
  {
   "cell_type": "code",
   "execution_count": 56,
   "outputs": [
    {
     "name": "stdout",
     "output_type": "stream",
     "text": [
      "Story of a man who has unnatural feelings for a pig. Starts out with a opening scene that is a terrific example of absurd comedy. A formal orchestra audience is turned into an insane, violent mob by the crazy chantings of it's singers. Unfortunately it stays absurd the WHOLE time with no general narrative eventually making it just too off putting. Even those from the era should be turned off. The cryptic dialogue would make Shakespeare seem easy to a third grader. On a technical level it's better than you might think with some good cinematography by future great Vilmos Zsigmond. Future stars Sally Kirkland and Frederic Forrest can be seen briefly.\n"
     ]
    }
   ],
   "source": [
    "print(review_4)"
   ],
   "metadata": {
    "collapsed": false,
    "ExecuteTime": {
     "end_time": "2023-07-29T13:08:38.274521Z",
     "start_time": "2023-07-29T13:08:38.227642500Z"
    }
   }
  },
  {
   "cell_type": "code",
   "execution_count": 57,
   "outputs": [
    {
     "name": "stdout",
     "output_type": "stream",
     "text": [
      "story of a man who have unnatural feeling for a pig . start out with a opening scene that be a terrific example of absurd comedy . a formal orchestra audience be turn into an insane , violent mob by the crazy chanting of it 's singer . unfortunately it stay absurd the WHOLE time with no general narrative eventually make it just too off putting . even those from the era should be turn off . the cryptic dialogue would make Shakespeare seem easy to a third grader . on a technical level it be well than you might think with some good cinematography by future great Vilmos Zsigmond . future star Sally Kirkland and Frederic Forrest can be see briefly .\n"
     ]
    }
   ],
   "source": [
    "print(lemmatize(review_4))"
   ],
   "metadata": {
    "collapsed": false,
    "ExecuteTime": {
     "end_time": "2023-07-29T13:08:40.521783400Z",
     "start_time": "2023-07-29T13:08:40.443661700Z"
    }
   }
  },
  {
   "cell_type": "code",
   "execution_count": 57,
   "outputs": [],
   "source": [],
   "metadata": {
    "collapsed": false,
    "ExecuteTime": {
     "end_time": "2023-07-29T13:08:42.318401600Z",
     "start_time": "2023-07-29T13:08:42.287150700Z"
    }
   }
  },
  {
   "cell_type": "code",
   "execution_count": 58,
   "outputs": [],
   "source": [
    "# Mora se prvo ocistiti tekst da bi se primenila ova funkcija\n",
    "# Pogledati izlaz dole\n",
    "def remove_repeated_characters(text):\n",
    "    repeat_pattern = re.compile(r'(\\w*)(\\w)\\2(\\w*)')\n",
    "    match_substitution = r'\\1\\2\\3'\n",
    "    def replace(old_word):\n",
    "        if wordnet.synsets(old_word):\n",
    "            return old_word\n",
    "        new_word = repeat_pattern.sub(match_substitution, old_word)\n",
    "        return replace(new_word) if new_word != old_word else new_word\n",
    "\n",
    "    tokenized_text = tokenize(text)\n",
    "    correct_tokens = [replace(word) for word in tokenized_text]\n",
    "    return ' '.join(correct_tokens)"
   ],
   "metadata": {
    "collapsed": false,
    "ExecuteTime": {
     "end_time": "2023-07-29T13:08:43.196778900Z",
     "start_time": "2023-07-29T13:08:43.103032200Z"
    }
   }
  },
  {
   "cell_type": "code",
   "execution_count": 59,
   "outputs": [
    {
     "name": "stdout",
     "output_type": "stream",
     "text": [
      "photography was too jumpy to follow. dark scenes hard to see.<br /><br />Had good story line too bad it got lost somewhere. Too noisy for what was really happening Bottom line is it's a baddddd movie\n"
     ]
    }
   ],
   "source": [
    "review_5 = read_document('data/train/neg/259_3.txt', 'utf-8')\n",
    "print(review_5)"
   ],
   "metadata": {
    "collapsed": false,
    "ExecuteTime": {
     "end_time": "2023-07-29T13:08:45.969442500Z",
     "start_time": "2023-07-29T13:08:45.891316400Z"
    }
   }
  },
  {
   "cell_type": "code",
   "execution_count": 60,
   "outputs": [
    {
     "name": "stdout",
     "output_type": "stream",
     "text": [
      "photography was too jumpy to follow . dark scenes hard to se. < br / > < br / > Had good story line too bad it got lost somewhere . Too noisy for what was really happening Bottom line is it 's a bad movie\n"
     ]
    }
   ],
   "source": [
    "print(remove_repeated_characters(review_5))"
   ],
   "metadata": {
    "collapsed": false,
    "ExecuteTime": {
     "end_time": "2023-07-29T13:08:47.313336300Z",
     "start_time": "2023-07-29T13:08:47.107711500Z"
    }
   }
  },
  {
   "cell_type": "code",
   "execution_count": 61,
   "outputs": [
    {
     "data": {
      "text/plain": "['photography',\n 'was',\n 'too',\n 'jumpy',\n 'to',\n 'follow',\n '.',\n 'dark',\n 'scenes',\n 'hard',\n 'to',\n 'see.',\n '<',\n 'br',\n '/',\n '>',\n '<',\n 'br',\n '/',\n '>',\n 'Had',\n 'good',\n 'story',\n 'line',\n 'too',\n 'bad',\n 'it',\n 'got',\n 'lost',\n 'somewhere',\n '.',\n 'Too',\n 'noisy',\n 'for',\n 'what',\n 'was',\n 'really',\n 'happening',\n 'Bottom',\n 'line',\n 'is',\n 'it',\n \"'s\",\n 'a',\n 'baddddd',\n 'movie']"
     },
     "execution_count": 61,
     "metadata": {},
     "output_type": "execute_result"
    }
   ],
   "source": [
    "tokenize(review_5)"
   ],
   "metadata": {
    "collapsed": false,
    "ExecuteTime": {
     "end_time": "2023-07-29T13:08:49.191525700Z",
     "start_time": "2023-07-29T13:08:49.113399300Z"
    }
   }
  },
  {
   "cell_type": "code",
   "execution_count": 62,
   "outputs": [
    {
     "data": {
      "text/plain": "'dark scenes hard to se. < br / > < br / >'"
     },
     "execution_count": 62,
     "metadata": {},
     "output_type": "execute_result"
    }
   ],
   "source": [
    "remove_repeated_characters('dark scenes hard to see.<br /><br />')"
   ],
   "metadata": {
    "collapsed": false,
    "ExecuteTime": {
     "end_time": "2023-07-29T13:08:51.894451900Z",
     "start_time": "2023-07-29T13:08:51.816328800Z"
    }
   }
  },
  {
   "cell_type": "code",
   "execution_count": 63,
   "outputs": [
    {
     "data": {
      "text/plain": "'Aaron'"
     },
     "execution_count": 63,
     "metadata": {},
     "output_type": "execute_result"
    }
   ],
   "source": [
    "remove_repeated_characters('Aaron')"
   ],
   "metadata": {
    "collapsed": false,
    "ExecuteTime": {
     "end_time": "2023-07-29T13:08:52.654654800Z",
     "start_time": "2023-07-29T13:08:52.560908900Z"
    }
   }
  },
  {
   "cell_type": "code",
   "execution_count": 64,
   "outputs": [
    {
     "data": {
      "text/plain": "'eel'"
     },
     "execution_count": 64,
     "metadata": {},
     "output_type": "execute_result"
    }
   ],
   "source": [
    "remove_repeated_characters('eel')"
   ],
   "metadata": {
    "collapsed": false,
    "ExecuteTime": {
     "end_time": "2023-07-29T13:08:53.742518600Z",
     "start_time": "2023-07-29T13:08:53.664400500Z"
    }
   }
  },
  {
   "cell_type": "code",
   "execution_count": 65,
   "outputs": [],
   "source": [
    "def convert_slang(text):\n",
    "    with open('slangs.json', 'r') as file:\n",
    "        slangs = json.load(file)\n",
    "\n",
    "    new_text = []\n",
    "    for word in tokenize(text):\n",
    "        if word in slangs:\n",
    "            new_text.append(slangs[word])\n",
    "        else:\n",
    "            new_text.append(word)\n",
    "\n",
    "    return ' '.join(new_text)\n"
   ],
   "metadata": {
    "collapsed": false,
    "ExecuteTime": {
     "end_time": "2023-07-29T13:08:54.378738300Z",
     "start_time": "2023-07-29T13:08:54.300607100Z"
    }
   }
  },
  {
   "cell_type": "code",
   "execution_count": 66,
   "outputs": [
    {
     "data": {
      "text/plain": "'laughing my ass off , what do you think? about that film ? it is so great ! just film to die for'"
     },
     "execution_count": 66,
     "metadata": {},
     "output_type": "execute_result"
    }
   ],
   "source": [
    "convert_slang('lmao, wdyt abt that film? it is so gr8! just film 2d4')"
   ],
   "metadata": {
    "collapsed": false,
    "ExecuteTime": {
     "end_time": "2023-07-29T13:08:55.766024400Z",
     "start_time": "2023-07-29T13:08:55.625402500Z"
    }
   }
  },
  {
   "cell_type": "code",
   "execution_count": 67,
   "outputs": [],
   "source": [
    "import pandas as pd"
   ],
   "metadata": {
    "collapsed": false,
    "ExecuteTime": {
     "end_time": "2023-07-29T13:09:07.011213500Z",
     "start_time": "2023-07-29T13:08:57.461280700Z"
    }
   }
  },
  {
   "cell_type": "code",
   "execution_count": 68,
   "outputs": [],
   "source": [
    "# Ubio dve muve jednim udarcem: resio se duplikata i lakse\n",
    "# cu pripremiti podatke za dalju analizu/obradu\n",
    "def corpus_to_csv(root_directory):\n",
    "    labels = {'pos': 1, 'neg': 0}\n",
    "    reviews = {}\n",
    "\n",
    "    for s in ('test', 'train'):\n",
    "        for l in ('pos', 'neg'):\n",
    "            path = os.path.join(root_directory, s, l)\n",
    "            for file in os.listdir(path):\n",
    "                text = read_document(os.path.join(path, file), encoding='utf-8')\n",
    "                reviews[text] = labels[l]\n",
    "\n",
    "    df = pd.DataFrame(list(reviews.items()))\n",
    "    df = df.sample(frac=1, random_state=42, ignore_index=True)\n",
    "    df.columns = ['review', 'sentiment']\n",
    "    df.to_csv('imdb_movie_data.csv', index=False, encoding='utf-8')"
   ],
   "metadata": {
    "collapsed": false,
    "ExecuteTime": {
     "end_time": "2023-07-29T13:09:07.089310600Z",
     "start_time": "2023-07-29T13:09:07.011213500Z"
    }
   }
  },
  {
   "cell_type": "code",
   "execution_count": 69,
   "outputs": [
    {
     "name": "stdout",
     "output_type": "stream",
     "text": [
      "CPU times: total: 49.2 s\n",
      "Wall time: 5min 19s\n"
     ]
    }
   ],
   "source": [
    "%%time\n",
    "corpus_to_csv('./data')"
   ],
   "metadata": {
    "collapsed": false,
    "ExecuteTime": {
     "end_time": "2023-07-29T13:14:41.148086600Z",
     "start_time": "2023-07-29T13:09:21.345614100Z"
    }
   }
  },
  {
   "cell_type": "code",
   "execution_count": 118,
   "outputs": [],
   "source": [],
   "metadata": {
    "collapsed": false,
    "ExecuteTime": {
     "end_time": "2023-07-29T00:01:19.154010Z",
     "start_time": "2023-07-29T00:01:12.746944600Z"
    }
   }
  },
  {
   "cell_type": "code",
   "execution_count": 126,
   "outputs": [],
   "source": [
    "df_ = pd.read_csv('imdb_movie_data.csv')"
   ],
   "metadata": {
    "collapsed": false,
    "ExecuteTime": {
     "end_time": "2023-07-29T00:13:21.743622300Z",
     "start_time": "2023-07-29T00:13:16.710744900Z"
    }
   }
  },
  {
   "cell_type": "code",
   "execution_count": 127,
   "outputs": [
    {
     "data": {
      "text/plain": "                                                  review  sentiment\n0      Due to reading bad reviews and being told by f...          1\n1      The funniest scene of this movie is probably w...          0\n2      Do not bother to waste your money on this movi...          0\n3      If you like bad movies (and you must to watch ...          0\n4      This is one of those games where you love it t...          1\n...                                                  ...        ...\n49577  Yes, this film has many gay characters. It als...          1\n49578  The film is pretty confusing and ludicrous. Th...          0\n49579  This movie is like real life, by which I mean ...          0\n49580  Oliver Stone hits the bull's eye with this fil...          1\n49581  Stinger starts '3 Months Ago' on the submarine...          0\n\n[49582 rows x 2 columns]",
      "text/html": "<div>\n<style scoped>\n    .dataframe tbody tr th:only-of-type {\n        vertical-align: middle;\n    }\n\n    .dataframe tbody tr th {\n        vertical-align: top;\n    }\n\n    .dataframe thead th {\n        text-align: right;\n    }\n</style>\n<table border=\"1\" class=\"dataframe\">\n  <thead>\n    <tr style=\"text-align: right;\">\n      <th></th>\n      <th>review</th>\n      <th>sentiment</th>\n    </tr>\n  </thead>\n  <tbody>\n    <tr>\n      <th>0</th>\n      <td>Due to reading bad reviews and being told by f...</td>\n      <td>1</td>\n    </tr>\n    <tr>\n      <th>1</th>\n      <td>The funniest scene of this movie is probably w...</td>\n      <td>0</td>\n    </tr>\n    <tr>\n      <th>2</th>\n      <td>Do not bother to waste your money on this movi...</td>\n      <td>0</td>\n    </tr>\n    <tr>\n      <th>3</th>\n      <td>If you like bad movies (and you must to watch ...</td>\n      <td>0</td>\n    </tr>\n    <tr>\n      <th>4</th>\n      <td>This is one of those games where you love it t...</td>\n      <td>1</td>\n    </tr>\n    <tr>\n      <th>...</th>\n      <td>...</td>\n      <td>...</td>\n    </tr>\n    <tr>\n      <th>49577</th>\n      <td>Yes, this film has many gay characters. It als...</td>\n      <td>1</td>\n    </tr>\n    <tr>\n      <th>49578</th>\n      <td>The film is pretty confusing and ludicrous. Th...</td>\n      <td>0</td>\n    </tr>\n    <tr>\n      <th>49579</th>\n      <td>This movie is like real life, by which I mean ...</td>\n      <td>0</td>\n    </tr>\n    <tr>\n      <th>49580</th>\n      <td>Oliver Stone hits the bull's eye with this fil...</td>\n      <td>1</td>\n    </tr>\n    <tr>\n      <th>49581</th>\n      <td>Stinger starts '3 Months Ago' on the submarine...</td>\n      <td>0</td>\n    </tr>\n  </tbody>\n</table>\n<p>49582 rows × 2 columns</p>\n</div>"
     },
     "execution_count": 127,
     "metadata": {},
     "output_type": "execute_result"
    }
   ],
   "source": [
    "df_"
   ],
   "metadata": {
    "collapsed": false,
    "ExecuteTime": {
     "end_time": "2023-07-29T00:13:25.123382700Z",
     "start_time": "2023-07-29T00:13:24.998386700Z"
    }
   }
  },
  {
   "cell_type": "code",
   "execution_count": 131,
   "outputs": [
    {
     "data": {
      "text/plain": "          sentiment\ncount  49582.000000\nmean       0.501876\nstd        0.500002\nmin        0.000000\n25%        0.000000\n50%        1.000000\n75%        1.000000\nmax        1.000000",
      "text/html": "<div>\n<style scoped>\n    .dataframe tbody tr th:only-of-type {\n        vertical-align: middle;\n    }\n\n    .dataframe tbody tr th {\n        vertical-align: top;\n    }\n\n    .dataframe thead th {\n        text-align: right;\n    }\n</style>\n<table border=\"1\" class=\"dataframe\">\n  <thead>\n    <tr style=\"text-align: right;\">\n      <th></th>\n      <th>sentiment</th>\n    </tr>\n  </thead>\n  <tbody>\n    <tr>\n      <th>count</th>\n      <td>49582.000000</td>\n    </tr>\n    <tr>\n      <th>mean</th>\n      <td>0.501876</td>\n    </tr>\n    <tr>\n      <th>std</th>\n      <td>0.500002</td>\n    </tr>\n    <tr>\n      <th>min</th>\n      <td>0.000000</td>\n    </tr>\n    <tr>\n      <th>25%</th>\n      <td>0.000000</td>\n    </tr>\n    <tr>\n      <th>50%</th>\n      <td>1.000000</td>\n    </tr>\n    <tr>\n      <th>75%</th>\n      <td>1.000000</td>\n    </tr>\n    <tr>\n      <th>max</th>\n      <td>1.000000</td>\n    </tr>\n  </tbody>\n</table>\n</div>"
     },
     "execution_count": 131,
     "metadata": {},
     "output_type": "execute_result"
    }
   ],
   "source": [
    "df_.describe()"
   ],
   "metadata": {
    "collapsed": false,
    "ExecuteTime": {
     "end_time": "2023-07-29T00:21:42.671931300Z",
     "start_time": "2023-07-29T00:21:39.555864600Z"
    }
   }
  },
  {
   "cell_type": "code",
   "execution_count": 132,
   "outputs": [
    {
     "data": {
      "text/plain": "49582"
     },
     "execution_count": 132,
     "metadata": {},
     "output_type": "execute_result"
    }
   ],
   "source": [
    "df_['sentiment'].isnull().count()"
   ],
   "metadata": {
    "collapsed": false,
    "ExecuteTime": {
     "end_time": "2023-07-29T00:22:16.130489800Z",
     "start_time": "2023-07-29T00:22:15.302394900Z"
    }
   }
  },
  {
   "cell_type": "code",
   "execution_count": null,
   "outputs": [],
   "source": [],
   "metadata": {
    "collapsed": false,
    "ExecuteTime": {
     "end_time": "2023-07-29T12:39:59.404029200Z",
     "start_time": "2023-07-29T12:39:59.357156200Z"
    }
   }
  },
  {
   "cell_type": "code",
   "execution_count": 352,
   "outputs": [],
   "source": [],
   "metadata": {
    "collapsed": false,
    "ExecuteTime": {
     "end_time": "2023-07-17T19:16:38.133120700Z",
     "start_time": "2023-07-17T19:16:37.906301100Z"
    }
   }
  },
  {
   "cell_type": "code",
   "execution_count": 354,
   "outputs": [],
   "source": [],
   "metadata": {
    "collapsed": false,
    "ExecuteTime": {
     "end_time": "2023-07-17T19:17:55.391095400Z",
     "start_time": "2023-07-17T19:17:55.048507100Z"
    }
   }
  },
  {
   "cell_type": "code",
   "execution_count": 356,
   "outputs": [],
   "source": [],
   "metadata": {
    "collapsed": false,
    "ExecuteTime": {
     "end_time": "2023-07-17T19:18:33.990598800Z",
     "start_time": "2023-07-17T19:18:27.898517600Z"
    }
   }
  },
  {
   "cell_type": "code",
   "execution_count": 85,
   "outputs": [],
   "source": [],
   "metadata": {
    "collapsed": false
   }
  },
  {
   "cell_type": "code",
   "execution_count": 85,
   "outputs": [],
   "source": [],
   "metadata": {
    "collapsed": false,
    "ExecuteTime": {
     "end_time": "2023-07-29T15:26:18.254743800Z",
     "start_time": "2023-07-29T15:26:18.161799800Z"
    }
   }
  },
  {
   "cell_type": "code",
   "execution_count": 85,
   "outputs": [],
   "source": [],
   "metadata": {
    "collapsed": false,
    "ExecuteTime": {
     "end_time": "2023-07-29T15:26:21.008036100Z",
     "start_time": "2023-07-29T15:26:20.954070200Z"
    }
   }
  },
  {
   "cell_type": "code",
   "execution_count": 85,
   "outputs": [],
   "source": [],
   "metadata": {
    "collapsed": false,
    "ExecuteTime": {
     "end_time": "2023-07-29T15:26:24.346969200Z",
     "start_time": "2023-07-29T15:26:24.292003700Z"
    }
   }
  },
  {
   "cell_type": "code",
   "execution_count": 85,
   "outputs": [],
   "source": [],
   "metadata": {
    "collapsed": false,
    "ExecuteTime": {
     "end_time": "2023-07-29T15:26:27.048295300Z",
     "start_time": "2023-07-29T15:26:26.913380400Z"
    }
   }
  },
  {
   "cell_type": "code",
   "execution_count": null,
   "outputs": [],
   "source": [],
   "metadata": {
    "collapsed": false
   }
  }
 ],
 "metadata": {
  "kernelspec": {
   "display_name": "Python 3",
   "language": "python",
   "name": "python3"
  },
  "language_info": {
   "codemirror_mode": {
    "name": "ipython",
    "version": 2
   },
   "file_extension": ".py",
   "mimetype": "text/x-python",
   "name": "python",
   "nbconvert_exporter": "python",
   "pygments_lexer": "ipython2",
   "version": "2.7.6"
  }
 },
 "nbformat": 4,
 "nbformat_minor": 0
}
